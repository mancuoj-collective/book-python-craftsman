{
 "cells": [
  {
   "cell_type": "code",
   "execution_count": 50,
   "metadata": {},
   "outputs": [
    {
     "name": "stdout",
     "output_type": "stream",
     "text": [
      "Hello, piglei!\n"
     ]
    }
   ],
   "source": [
    "author = \"piglei\"\n",
    "print(\"Hello, {}!\".format(author))"
   ]
  },
  {
   "cell_type": "markdown",
   "metadata": {},
   "source": [
    "1. 变量解包 unpacking\n",
    "   1. `()` 展开多层嵌套数据\n",
    "   2. `*` 动态解包\n",
    "2. 单下划线 `_` 变量名\n"
   ]
  },
  {
   "cell_type": "code",
   "execution_count": 51,
   "metadata": {},
   "outputs": [
    {
     "data": {
      "text/plain": [
       "'raymond'"
      ]
     },
     "execution_count": 51,
     "metadata": {},
     "output_type": "execute_result"
    }
   ],
   "source": [
    "author, reader = \"piglei\", \"raymond\"\n",
    "author, reader = reader, author\n",
    "author"
   ]
  },
  {
   "cell_type": "code",
   "execution_count": 52,
   "metadata": {},
   "outputs": [
    {
     "data": {
      "text/plain": [
       "'piglei'"
      ]
     },
     "execution_count": 52,
     "metadata": {},
     "output_type": "execute_result"
    }
   ],
   "source": [
    "usernames = [\"piglei\", \"raymond\"]\n",
    "author, reader = usernames\n",
    "author"
   ]
  },
  {
   "cell_type": "code",
   "execution_count": 53,
   "metadata": {},
   "outputs": [
    {
     "name": "stdout",
     "output_type": "stream",
     "text": [
      "1\n",
      "piglei\n"
     ]
    }
   ],
   "source": [
    "attrs = [1, [\"piglei\", 100]]\n",
    "# 小括号展开多层嵌套\n",
    "user_id, (username, score) = attrs\n",
    "print(user_id)\n",
    "print(username)"
   ]
  },
  {
   "cell_type": "code",
   "execution_count": 54,
   "metadata": {},
   "outputs": [
    {
     "name": "stdout",
     "output_type": "stream",
     "text": [
      "piglei\n",
      "['apple', 'orange', 'banana']\n",
      "100\n"
     ]
    }
   ],
   "source": [
    "data = [\"piglei\", \"apple\", \"orange\", \"banana\", 100]\n",
    "# 动态解包（贪婪)\n",
    "# 等价于 usernames, fruits, score = data[0], data[1:-1], data[-1]\n",
    "username, *fruits, score = data\n",
    "print(username)\n",
    "print(fruits)\n",
    "print(score)"
   ]
  },
  {
   "cell_type": "code",
   "execution_count": 55,
   "metadata": {},
   "outputs": [
    {
     "name": "stdout",
     "output_type": "stream",
     "text": [
      "piglei\n",
      "raymond\n"
     ]
    }
   ],
   "source": [
    "for username, score in [(\"piglei\", 100), (\"raymond\", 60)]:\n",
    "    print(username)"
   ]
  },
  {
   "cell_type": "code",
   "execution_count": 56,
   "metadata": {},
   "outputs": [],
   "source": [
    "# 忽略展开的第二个变量\n",
    "author, _ = usernames\n",
    "\n",
    "# 忽略第一个和最后一个变量之间的所有变量\n",
    "usernames, *_, score = data"
   ]
  },
  {
   "cell_type": "markdown",
   "metadata": {},
   "source": [
    "1. 给变量注明类型\n",
    "   1. Sphinx docstring\n",
    "   2. 类型注解\n",
    "2. 命名原则\n",
    "   1. PEP 8\n",
    "   2. 描述性要强\n",
    "   3. 要尽量短\n",
    "   4. 要匹配类型\n",
    "   5. 超短命名\n",
    "      1. 数组索引三剑客 i, j, k\n",
    "      2. 某个整数 n\n",
    "      3. 某个字符串 s\n",
    "      4. 某个异常 e\n",
    "      5. 文件对象 fp\n"
   ]
  },
  {
   "cell_type": "code",
   "execution_count": 57,
   "metadata": {},
   "outputs": [],
   "source": [
    "def remove_invalid_sphinx(items):\n",
    "    \"\"\"剔除 items 里面无效的元素\n",
    "    :param items: 待剔除元素的列表\n",
    "    :type items: 包含整数的列表，[int, ...]\n",
    "    \"\"\"\n",
    "    pass"
   ]
  },
  {
   "cell_type": "code",
   "execution_count": 58,
   "metadata": {},
   "outputs": [],
   "source": [
    "from typing import List\n",
    "\n",
    "\n",
    "def remove_invalid(items: List[int]):\n",
    "    \"\"\"剔除 items 里面无效的元素\"\"\"\n",
    "    pass"
   ]
  },
  {
   "cell_type": "markdown",
   "metadata": {},
   "source": [
    "注释不应该做：\n",
    "\n",
    "1. 用注释屏蔽代码\n",
    "2. 用注释复述代码\n",
    "3. 弄错接口注释的受众\n"
   ]
  },
  {
   "cell_type": "code",
   "execution_count": 59,
   "metadata": {},
   "outputs": [
    {
     "data": {
      "text/plain": [
       "[1, 3, 19, 23, 2, 4, 4, 20, 32]"
      ]
     },
     "execution_count": 59,
     "metadata": {},
     "output_type": "execute_result"
    }
   ],
   "source": [
    "def magic_bubble_sort(numbers: List[int]):\n",
    "    \"\"\"有魔力的冒泡排序算法，默认所有的偶数都比奇数大\n",
    "    :param numbers: 需要排序的列表，函数会直接修改原始列表\n",
    "    \"\"\"\n",
    "    stop_position = len(numbers) - 1\n",
    "    while stop_position > 0:\n",
    "        for i in range(stop_position):\n",
    "            current, next_ = numbers[i], numbers[i + 1]\n",
    "            current_is_even, next_is_even = current % 2 == 0, next_ % 2 == 0\n",
    "            should_swap = False\n",
    "            # 交换的两个条件\n",
    "            # 1. 当前数是偶数，下一个数是奇数\n",
    "            # 2. 同为奇数或偶数，当前数大于下一个数\n",
    "            if current_is_even and not next_is_even:\n",
    "                should_swap = True\n",
    "            elif current_is_even == next_is_even and current > next_:\n",
    "                should_swap = True\n",
    "            if should_swap:\n",
    "                numbers[i], numbers[i + 1] = numbers[i + 1], numbers[i]\n",
    "        stop_position -= 1\n",
    "    return numbers\n",
    "\n",
    "\n",
    "numbers = [23, 32, 1, 3, 4, 19, 20, 2, 4]\n",
    "magic_bubble_sort(numbers)"
   ]
  },
  {
   "cell_type": "markdown",
   "metadata": {},
   "source": [
    "1. 保持变量的一致性\n",
    "2. 变量定义尽量靠近使用，不要初始化全部写在一起放在最前面\n",
    "3. 定义临时变量提升可读性\n",
    "4. 统一作用域不要有太多的变量\n",
    "5. 能不定义变量就不要定义变量，不要提前准备\n",
    "6. 不要使用 `locals()`，Explicit is better than implicit.\n",
    "7. 空行也是一种注释\n",
    "8. 先写注释，再写代码\n"
   ]
  }
 ],
 "metadata": {
  "kernelspec": {
   "display_name": "Python 3",
   "language": "python",
   "name": "python3"
  },
  "language_info": {
   "codemirror_mode": {
    "name": "ipython",
    "version": 3
   },
   "file_extension": ".py",
   "mimetype": "text/x-python",
   "name": "python",
   "nbconvert_exporter": "python",
   "pygments_lexer": "ipython3",
   "version": "3.12.1"
  }
 },
 "nbformat": 4,
 "nbformat_minor": 2
}
